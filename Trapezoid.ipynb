{
  "nbformat": 4,
  "nbformat_minor": 0,
  "metadata": {
    "colab": {
      "provenance": []
    },
    "kernelspec": {
      "name": "python3",
      "display_name": "Python 3"
    },
    "language_info": {
      "name": "python"
    }
  },
  "cells": [
    {
      "cell_type": "code",
      "execution_count": 1,
      "metadata": {
        "colab": {
          "base_uri": "https://localhost:8080/"
        },
        "id": "wcCAvaasLXUz",
        "outputId": "013e0eb6-4db3-405e-fa47-2cea53e19139"
      },
      "outputs": [
        {
          "output_type": "stream",
          "name": "stdout",
          "text": [
            "With 8 panels:\n",
            "Integral using trapz: 1.9663166787658923\n",
            "Integral using composite trapezoidal rule: 1.9663166787658921\n",
            "\n",
            "With 16 panels:\n",
            "Integral using trapz: 1.9926838315307693\n",
            "Integral using composite trapezoidal rule: 1.992683831530769\n"
          ]
        }
      ],
      "source": [
        "import numpy as np\n",
        "from scipy.integrate import trapz\n",
        "\n",
        "a = 0\n",
        "b = np.pi\n",
        "\n",
        "n1 = 8\n",
        "n2 = 16\n",
        "\n",
        "h1 = (b - a) / (n1 - 1)\n",
        "h2 = (b - a) / (n2 - 1)\n",
        "\n",
        "x1 = np.linspace(a, b, n1)\n",
        "x2 = np.linspace(a, b, n2)\n",
        "\n",
        "f1 = np.sin(x1)\n",
        "f2 = np.sin(x2)\n",
        "\n",
        "I_trapz1 = trapz(f1, x1)\n",
        "I_trapz2 = trapz(f2, x2)\n",
        "\n",
        "I_trap1 = (h1 / 2) * (f1[0] + 2 * np.sum(f1[1:n1 - 1]) + f1[n1 - 1])\n",
        "I_trap2 = (h2 / 2) * (f2[0] + 2 * np.sum(f2[1:n2 - 1]) + f2[n2 - 1])\n",
        "\n",
        "print(\"With 8 panels:\")\n",
        "print(\"Integral using trapz:\", I_trapz1)\n",
        "print(\"Integral using composite trapezoidal rule:\", I_trap1)\n",
        "\n",
        "print(\"\\nWith 16 panels:\")\n",
        "print(\"Integral using trapz:\", I_trapz2)\n",
        "print(\"Integral using composite trapezoidal rule:\", I_trap2)\n"
      ]
    }
  ]
}