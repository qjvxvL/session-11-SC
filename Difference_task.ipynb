{
  "nbformat": 4,
  "nbformat_minor": 0,
  "metadata": {
    "colab": {
      "provenance": []
    },
    "kernelspec": {
      "name": "python3",
      "display_name": "Python 3"
    },
    "language_info": {
      "name": "python"
    }
  },
  "cells": [
    {
      "cell_type": "code",
      "execution_count": null,
      "metadata": {
        "id": "SCRZqUYIT3Pz"
      },
      "outputs": [],
      "source": [
        "import numpy as np\n",
        "\n",
        "# Step size\n",
        "h = 0.1\n",
        "\n",
        "# Define grid\n",
        "x = np.arange(0, 2*np.pi, h)\n",
        "\n",
        "# Compute function\n",
        "y = np.cos(x)\n",
        "\n",
        "# Compute first derivative using central difference\n",
        "first_derivative = np.zeros_like(y)\n",
        "first_derivative[1:-1] = (y[2:] - y[:-2]) / (2 * h)\n",
        "\n",
        "# Compute second derivative using central difference\n",
        "second_derivative = np.zeros_like(y)\n",
        "second_derivative[1:-1] = (y[2:] - 2*y[1:-1] + y[:-2]) / (h**2)\n",
        "\n",
        "# Indices for x = 0 and x = 0.2\n",
        "index_0 = np.where(x == 0)[0][0]\n",
        "index_02 = np.where(x == 0.2)[0][0]\n",
        "\n",
        "# f'(x) and f''(x) at x = 0 and x = 0.2\n",
        "f_prime_0 = first_derivative[index_0]\n",
        "f_double_prime_0 = second_derivative[index_0]\n",
        "\n",
        "f_prime_02 = first_derivative[index_02]\n",
        "f_double_prime_02 = second_derivative[index_02]\n",
        "\n",
        "print(f\"f'(0) = {f_prime_0}\")\n",
        "print(f\"f''(0) = {f_double_prime_0}\")\n",
        "\n",
        "print(f\"f'(0.2) = {f_prime_02}\")\n",
        "print(f\"f''(0.2) = {f_double_prime_02}\")"
      ]
    }
  ]
}